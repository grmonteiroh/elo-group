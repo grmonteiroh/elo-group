{
 "cells": [
  {
   "cell_type": "markdown",
   "metadata": {},
   "source": [
    "# BIBLIOTECAS"
   ]
  },
  {
   "cell_type": "code",
   "execution_count": 2,
   "metadata": {},
   "outputs": [
    {
     "name": "stdout",
     "output_type": "stream",
     "text": [
      "Requirement already satisfied: pandas in c:\\users\\grmon\\appdata\\local\\programs\\python\\python312\\lib\\site-packages (2.2.3)\n",
      "Requirement already satisfied: numpy in c:\\users\\grmon\\appdata\\local\\programs\\python\\python312\\lib\\site-packages (2.2.2)\n",
      "Requirement already satisfied: seaborn in c:\\users\\grmon\\appdata\\local\\programs\\python\\python312\\lib\\site-packages (0.13.2)\n",
      "Requirement already satisfied: matplotlib in c:\\users\\grmon\\appdata\\local\\programs\\python\\python312\\lib\\site-packages (3.10.0)\n",
      "Requirement already satisfied: python-dateutil>=2.8.2 in c:\\users\\grmon\\appdata\\local\\programs\\python\\python312\\lib\\site-packages (from pandas) (2.8.2)\n",
      "Requirement already satisfied: pytz>=2020.1 in c:\\users\\grmon\\appdata\\local\\programs\\python\\python312\\lib\\site-packages (from pandas) (2025.1)\n",
      "Requirement already satisfied: tzdata>=2022.7 in c:\\users\\grmon\\appdata\\local\\programs\\python\\python312\\lib\\site-packages (from pandas) (2025.1)\n",
      "Requirement already satisfied: contourpy>=1.0.1 in c:\\users\\grmon\\appdata\\local\\programs\\python\\python312\\lib\\site-packages (from matplotlib) (1.3.1)\n",
      "Requirement already satisfied: cycler>=0.10 in c:\\users\\grmon\\appdata\\local\\programs\\python\\python312\\lib\\site-packages (from matplotlib) (0.12.1)\n",
      "Requirement already satisfied: fonttools>=4.22.0 in c:\\users\\grmon\\appdata\\local\\programs\\python\\python312\\lib\\site-packages (from matplotlib) (4.56.0)\n",
      "Requirement already satisfied: kiwisolver>=1.3.1 in c:\\users\\grmon\\appdata\\local\\programs\\python\\python312\\lib\\site-packages (from matplotlib) (1.4.8)\n",
      "Requirement already satisfied: packaging>=20.0 in c:\\users\\grmon\\appdata\\local\\programs\\python\\python312\\lib\\site-packages (from matplotlib) (23.2)\n",
      "Requirement already satisfied: pillow>=8 in c:\\users\\grmon\\appdata\\local\\programs\\python\\python312\\lib\\site-packages (from matplotlib) (11.1.0)\n",
      "Requirement already satisfied: pyparsing>=2.3.1 in c:\\users\\grmon\\appdata\\local\\programs\\python\\python312\\lib\\site-packages (from matplotlib) (3.2.1)\n",
      "Requirement already satisfied: six>=1.5 in c:\\users\\grmon\\appdata\\local\\programs\\python\\python312\\lib\\site-packages (from python-dateutil>=2.8.2->pandas) (1.16.0)\n"
     ]
    },
    {
     "name": "stderr",
     "output_type": "stream",
     "text": [
      "WARNING: Ignoring invalid distribution ~ip (C:\\Users\\grmon\\AppData\\Local\\Programs\\Python\\Python312\\Lib\\site-packages)\n",
      "WARNING: Ignoring invalid distribution ~ip (C:\\Users\\grmon\\AppData\\Local\\Programs\\Python\\Python312\\Lib\\site-packages)\n",
      "WARNING: Ignoring invalid distribution ~ip (C:\\Users\\grmon\\AppData\\Local\\Programs\\Python\\Python312\\Lib\\site-packages)\n"
     ]
    }
   ],
   "source": [
    "!pip3 install pandas numpy seaborn matplotlib"
   ]
  },
  {
   "cell_type": "code",
   "execution_count": 3,
   "metadata": {},
   "outputs": [],
   "source": [
    "import pandas as pd\n",
    "import os\n",
    "import numpy as np\n",
    "import seaborn as sns\n",
    "import matplotlib.pyplot as plt\n",
    "import glob"
   ]
  },
  {
   "cell_type": "markdown",
   "metadata": {},
   "source": [
    "# SANITY CHECK"
   ]
  },
  {
   "cell_type": "markdown",
   "metadata": {},
   "source": [
    "## Objetivos:\n",
    "\n",
    "- Entendimento inicial de cada uma das bases de dados\n",
    "- Analisar propriedades das colunas das bases\n",
    "- Identificar e tratar possíveis inconsistências nos dados"
   ]
  },
  {
   "cell_type": "code",
   "execution_count": 13,
   "metadata": {},
   "outputs": [],
   "source": [
    "# Obter a lista de arquivos CSV no diretório\n",
    "csv_files = glob.glob('../data/raw/*.csv')\n",
    "\n",
    "df_list = [pd.read_csv(file) for file in csv_files]"
   ]
  },
  {
   "cell_type": "code",
   "execution_count": 17,
   "metadata": {},
   "outputs": [
    {
     "data": {
      "text/plain": [
       "['../data/raw\\\\DemographicData_ZCTAs.csv',\n",
       " '../data/raw\\\\df_geocode (1).csv',\n",
       " '../data/raw\\\\EconomicData_ZCTAs (1).csv',\n",
       " '../data/raw\\\\exams_data.csv',\n",
       " '../data/raw\\\\transactional_data (1).csv']"
      ]
     },
     "execution_count": 17,
     "metadata": {},
     "output_type": "execute_result"
    }
   ],
   "source": [
    "csv_files"
   ]
  },
  {
   "cell_type": "code",
   "execution_count": null,
   "metadata": {},
   "outputs": [
    {
     "name": "stdout",
     "output_type": "stream",
     "text": [
      "Dataframes criados: demographic_df, geocode_df, economic_df, exams_df, transactional_df\n"
     ]
    }
   ],
   "source": [
    "demographic_df = pd.read_csv(csv_files[0])\n",
    "geocode_df = pd.read_csv(csv_files[1])\n",
    "economic_df = pd.read_csv(csv_files[2])\n",
    "exams_df = pd.read_csv(csv_files[3])\n",
    "transactional_df = pd.read_csv(csv_files[4])"
   ]
  },
  {
   "cell_type": "markdown",
   "metadata": {},
   "source": [
    "Dataframes criados:\n",
    "- demographic_df\n",
    "- geocode_df\n",
    "- economic_df\n",
    "- exams_df\n",
    "- transactional_df"
   ]
  },
  {
   "cell_type": "markdown",
   "metadata": {},
   "source": [
    "### Visualização do demographic_df"
   ]
  },
  {
   "cell_type": "code",
   "execution_count": 38,
   "metadata": {},
   "outputs": [
    {
     "name": "stdout",
     "output_type": "stream",
     "text": [
      "Colunas do dataframe demographic: Index(['Unnamed: 0', 'Id', 'GeographicAreaName', 'TotalPopulation', 'SexRatio(males per 100 females)', 'Population_Under5Years', 'Population_5to9Years', 'Population_10to14Years', 'Population_15to19Years', 'Population_20to24Years', 'Population_25to34Years', 'Population_35to44Years', 'Population_45to54Years', 'Population_55to59Years', 'Population_60to64Years', 'Population_65to74Years', 'Population_75to84Years', 'Population_85YearsAndOver', 'MedianAgeInYears'], dtype='object')\n",
      "Shape do dataframe demographic (33120, 19)\n",
      "<class 'pandas.core.frame.DataFrame'>\n",
      "RangeIndex: 33120 entries, 0 to 33119\n",
      "Data columns (total 19 columns):\n",
      " #   Column                           Non-Null Count  Dtype  \n",
      "---  ------                           --------------  -----  \n",
      " 0   Unnamed: 0                       33120 non-null  int64  \n",
      " 1   Id                               33120 non-null  object \n",
      " 2   GeographicAreaName               33120 non-null  object \n",
      " 3   TotalPopulation                  33120 non-null  int64  \n",
      " 4   SexRatio(males per 100 females)  32620 non-null  float64\n",
      " 5   Population_Under5Years           33120 non-null  int64  \n",
      " 6   Population_5to9Years             33120 non-null  int64  \n",
      " 7   Population_10to14Years           33120 non-null  int64  \n",
      " 8   Population_15to19Years           33120 non-null  int64  \n",
      " 9   Population_20to24Years           33120 non-null  int64  \n",
      " 10  Population_25to34Years           33120 non-null  int64  \n",
      " 11  Population_35to44Years           33120 non-null  int64  \n",
      " 12  Population_45to54Years           33120 non-null  int64  \n",
      " 13  Population_55to59Years           33120 non-null  int64  \n",
      " 14  Population_60to64Years           33120 non-null  int64  \n",
      " 15  Population_65to74Years           33120 non-null  int64  \n",
      " 16  Population_75to84Years           33120 non-null  int64  \n",
      " 17  Population_85YearsAndOver        33120 non-null  int64  \n",
      " 18  MedianAgeInYears                 32551 non-null  float64\n",
      "dtypes: float64(2), int64(15), object(2)\n",
      "memory usage: 4.8+ MB\n",
      "None\n"
     ]
    }
   ],
   "source": [
    "print(\"Colunas do dataframe demographic:\", demographic_df.columns)\n",
    "print(\"Shape do dataframe demographic\", demographic_df.shape)\n",
    "print(demographic_df.info())"
   ]
  },
  {
   "cell_type": "code",
   "execution_count": null,
   "metadata": {},
   "outputs": [
    {
     "name": "stdout",
     "output_type": "stream",
     "text": [
      "   Unnamed: 0              Id GeographicAreaName  TotalPopulation  SexRatio(males per 100 females)  Population_Under5Years  Population_5to9Years  Population_10to14Years  Population_15to19Years  Population_20to24Years  Population_25to34Years  Population_35to44Years  Population_45to54Years  Population_55to59Years  Population_60to64Years  Population_65to74Years  Population_75to84Years  Population_85YearsAndOver  MedianAgeInYears\n",
      "0           0  8600000US35004        ZCTA5 35004            12045                             94.1                     805                  1075                     898                     477                     578                    2088                    1628                    1200                     886                     683                    1017                     534                        176              35.5\n",
      "1           1  8600000US35005        ZCTA5 35005             7344                             86.1                     504                   453                     511                     499                     214                     788                     795                     968                     612                     561                     798                     485                        156              44.0\n",
      "2           2  8600000US35006        ZCTA5 35006             2883                            108.2                      96                   153                     303                     129                     156                     183                     367                     430                     296                     260                     280                     201                         29              47.2\n",
      "3           3  8600000US35007        ZCTA5 35007            26332                             95.0                    1936                  1992                    1837                    1762                    1376                    3119                    3849                    3907                    1665                    1323                    2096                    1106                        364              37.7\n",
      "4           4  8600000US35010        ZCTA5 35010            20613                             90.5                    1306                  1465                     944                    1217                    1128                    2513                    2106                    2950                    1512                    1472                    2421                    1155                        424              42.6\n"
     ]
    }
   ],
   "source": [
    "pd.set_option('display.width', 600)\n",
    "pd.set_option('display.max_columns', None)\n",
    "print(demographic_df.head(5))"
   ]
  },
  {
   "cell_type": "code",
   "execution_count": 62,
   "metadata": {},
   "outputs": [
    {
     "name": "stdout",
     "output_type": "stream",
     "text": [
      "Empty DataFrame\n",
      "Columns: [Unnamed: 0, Id, GeographicAreaName, TotalPopulation, SexRatio(males per 100 females), Population_Under5Years, Population_5to9Years, Population_10to14Years, Population_15to19Years, Population_20to24Years, Population_25to34Years, Population_35to44Years, Population_45to54Years, Population_55to59Years, Population_60to64Years, Population_65to74Years, Population_75to84Years, Population_85YearsAndOver, MedianAgeInYears]\n",
      "Index: []\n"
     ]
    }
   ],
   "source": [
    "duplicated_rows = demographic_df[demographic_df.duplicated(subset=['Id', 'GeographicAreaName'])]\n",
    "print(duplicated_rows)"
   ]
  },
  {
   "cell_type": "code",
   "execution_count": 63,
   "metadata": {},
   "outputs": [
    {
     "name": "stdout",
     "output_type": "stream",
     "text": [
      "Quantidade de valores únicos na coluna 'Id': 33120\n",
      "Quantidade de valores únicos na coluna 'GeographicAreaName': 33120\n"
     ]
    }
   ],
   "source": [
    "print(f\"Quantidade de valores únicos na coluna 'Id': {demographic_df['Id'].nunique()}\")\n",
    "print(f\"Quantidade de valores únicos na coluna 'GeographicAreaName': {demographic_df['GeographicAreaName'].nunique()}\")"
   ]
  },
  {
   "cell_type": "markdown",
   "metadata": {},
   "source": [
    "Esses valores correspondem ao número total de linhas"
   ]
  },
  {
   "cell_type": "markdown",
   "metadata": {},
   "source": [
    "Nota-se que a maioria das colunas da base é numérica, com características relacionadas à demografia de áreas geográficas. A maior parte das variáveis que descrevem as características populacionais são numéricas, porém existem variáveis aparentemente categóricas:\n",
    "\n",
    "- `Id` (Identificador único da área geográfica)\n",
    "- `GeographicAreaName` (Nome da área geográfica)\n",
    "- `SexRatio(males per 100 females)` (Razão de sexo: número de homens por 100 mulheres)\n"
   ]
  },
  {
   "cell_type": "markdown",
   "metadata": {},
   "source": [
    "### Visualização do geocode_df"
   ]
  },
  {
   "cell_type": "code",
   "execution_count": 39,
   "metadata": {},
   "outputs": [
    {
     "name": "stdout",
     "output_type": "stream",
     "text": [
      "Colunas do dataframe geocode: Index(['Unnamed: 0', 'Lab Id', 'Address', 'Location', 'Zipcode'], dtype='object')\n",
      "Shape do dataframe geocode (119, 5)\n",
      "<class 'pandas.core.frame.DataFrame'>\n",
      "RangeIndex: 119 entries, 0 to 118\n",
      "Data columns (total 5 columns):\n",
      " #   Column      Non-Null Count  Dtype  \n",
      "---  ------      --------------  -----  \n",
      " 0   Unnamed: 0  119 non-null    int64  \n",
      " 1   Lab Id      119 non-null    object \n",
      " 2   Address     119 non-null    object \n",
      " 3   Location    119 non-null    object \n",
      " 4   Zipcode     118 non-null    float64\n",
      "dtypes: float64(1), int64(1), object(3)\n",
      "memory usage: 4.8+ KB\n",
      "None\n"
     ]
    }
   ],
   "source": [
    "print(\"Colunas do dataframe geocode:\", geocode_df.columns)\n",
    "print(\"Shape do dataframe geocode\", geocode_df.shape)\n",
    "print(geocode_df.info())"
   ]
  },
  {
   "cell_type": "code",
   "execution_count": 41,
   "metadata": {},
   "outputs": [
    {
     "name": "stdout",
     "output_type": "stream",
     "text": [
      "   Unnamed: 0 Lab Id                                            Address                 Location  Zipcode\n",
      "0           0   L152      3800 PLEASANT HILL RD STE 1, DULUTH, GA 30096    34.000319,-84.1629724  30096.0\n",
      "1           1   L520                    1614 N JAMES ST, ROME, NY 13440   43.2311327,-75.4445363  13440.0\n",
      "2           2   L141     12911 120TH AVE NE STE D60, KIRKLAND, WA 98034  47.7162786,-122.1838152  98034.0\n",
      "3           3   L524  5667 PEACHTREE DUNWOODY RD 250, ATLANTA, GA 30342   33.9093875,-84.3529096  30342.0\n",
      "4           4   L545                 1204 IL HWY 164, OQUAWKA, IL 61469   40.9309925,-90.9437598  61469.0\n"
     ]
    }
   ],
   "source": [
    "print(geocode_df.head(5))"
   ]
  },
  {
   "cell_type": "markdown",
   "metadata": {},
   "source": [
    "### Visualização do economic_df"
   ]
  },
  {
   "cell_type": "code",
   "execution_count": 42,
   "metadata": {},
   "outputs": [
    {
     "name": "stdout",
     "output_type": "stream",
     "text": [
      "Colunas do dataframe economic: Index(['Unnamed: 0', 'id', 'Geographic Area Name', 'TotalHouseholds_LessThan$10.000', 'TotalHouseholds_$10.000to$14.999', 'TotalHouseholds_$15.000to$24.999', 'TotalHouseholds_$25.000to$34.999', 'TotalHouseholds_$35.000to$49.999', 'TotalHouseholds_$50.000to$74.999', 'TotalHouseholds_$75.000to$99.999', 'TotalHouseholds_$100.000to$149.999', 'TotalHouseholds_$150.000to$199.999', 'TotalHouseholds_$200.000OrMore'], dtype='object')\n",
      "Shape do dataframe economic (629280, 13)\n",
      "<class 'pandas.core.frame.DataFrame'>\n",
      "RangeIndex: 629280 entries, 0 to 629279\n",
      "Data columns (total 13 columns):\n",
      " #   Column                              Non-Null Count   Dtype \n",
      "---  ------                              --------------   ----- \n",
      " 0   Unnamed: 0                          629280 non-null  int64 \n",
      " 1   id                                  629280 non-null  object\n",
      " 2   Geographic Area Name                629280 non-null  object\n",
      " 3   TotalHouseholds_LessThan$10.000     629280 non-null  int64 \n",
      " 4   TotalHouseholds_$10.000to$14.999    629280 non-null  int64 \n",
      " 5   TotalHouseholds_$15.000to$24.999    629280 non-null  int64 \n",
      " 6   TotalHouseholds_$25.000to$34.999    629280 non-null  int64 \n",
      " 7   TotalHouseholds_$35.000to$49.999    629280 non-null  int64 \n",
      " 8   TotalHouseholds_$50.000to$74.999    629280 non-null  int64 \n",
      " 9   TotalHouseholds_$75.000to$99.999    629280 non-null  int64 \n",
      " 10  TotalHouseholds_$100.000to$149.999  629280 non-null  int64 \n",
      " 11  TotalHouseholds_$150.000to$199.999  629280 non-null  int64 \n",
      " 12  TotalHouseholds_$200.000OrMore      629280 non-null  int64 \n",
      "dtypes: int64(11), object(2)\n",
      "memory usage: 62.4+ MB\n",
      "None\n"
     ]
    }
   ],
   "source": [
    "print(\"Colunas do dataframe economic:\", economic_df.columns)\n",
    "print(\"Shape do dataframe economic\", economic_df.shape)\n",
    "print(economic_df.info())"
   ]
  },
  {
   "cell_type": "code",
   "execution_count": 43,
   "metadata": {},
   "outputs": [
    {
     "name": "stdout",
     "output_type": "stream",
     "text": [
      "   Unnamed: 0              id Geographic Area Name  TotalHouseholds_LessThan$10.000  TotalHouseholds_$10.000to$14.999  TotalHouseholds_$15.000to$24.999  TotalHouseholds_$25.000to$34.999  TotalHouseholds_$35.000to$49.999  TotalHouseholds_$50.000to$74.999  TotalHouseholds_$75.000to$99.999  TotalHouseholds_$100.000to$149.999  TotalHouseholds_$150.000to$199.999  TotalHouseholds_$200.000OrMore\n",
      "0           0  8600000US35004          ZCTA5 35004                              198                                71                               298                               513                               647                              1117                               529                                 945                                 245                              61\n",
      "1           1  8600000US35005          ZCTA5 35005                              188                               184                               318                               293                               353                               562                               299                                 407                                  67                              26\n",
      "2           2  8600000US35006          ZCTA5 35006                               71                                20                               117                               104                               154                               176                               124                                 194                                  51                               7\n",
      "3           3  8600000US35007          ZCTA5 35007                              396                               208                               670                               462                              1173                              1854                              1578                                2224                                 473                             254\n",
      "4           4  8600000US35010          ZCTA5 35010                              700                               610                              1093                               957                              1056                              1512                               807                                 749                                 254                             249\n"
     ]
    }
   ],
   "source": [
    "pd.set_option('display.width', 600)\n",
    "pd.set_option('display.max_columns', None)\n",
    "print(economic_df.head(5))"
   ]
  },
  {
   "cell_type": "markdown",
   "metadata": {},
   "source": [
    "### Visualização do exams_df"
   ]
  },
  {
   "cell_type": "code",
   "execution_count": 44,
   "metadata": {},
   "outputs": [
    {
     "name": "stdout",
     "output_type": "stream",
     "text": [
      "Colunas do dataframe exams: Index(['CodItem', 'Desc Item', 'Category', 'Family', 'Speciality', 'Testing Cost'], dtype='object')\n",
      "Shape do dataframe exams (2002, 6)\n",
      "<class 'pandas.core.frame.DataFrame'>\n",
      "RangeIndex: 2002 entries, 0 to 2001\n",
      "Data columns (total 6 columns):\n",
      " #   Column        Non-Null Count  Dtype  \n",
      "---  ------        --------------  -----  \n",
      " 0   CodItem       2002 non-null   int64  \n",
      " 1   Desc Item     2002 non-null   object \n",
      " 2   Category      2002 non-null   object \n",
      " 3   Family        2002 non-null   object \n",
      " 4   Speciality    2002 non-null   object \n",
      " 5   Testing Cost  2002 non-null   float64\n",
      "dtypes: float64(1), int64(1), object(4)\n",
      "memory usage: 94.0+ KB\n",
      "None\n"
     ]
    }
   ],
   "source": [
    "print(\"Colunas do dataframe exams:\", exams_df.columns)\n",
    "print(\"Shape do dataframe exams\", exams_df.shape)\n",
    "print(exams_df.info())"
   ]
  },
  {
   "cell_type": "code",
   "execution_count": 52,
   "metadata": {},
   "outputs": [
    {
     "name": "stdout",
     "output_type": "stream",
     "text": [
      "CodItem         0\n",
      "Desc Item       0\n",
      "Category        0\n",
      "Family          0\n",
      "Speciality      0\n",
      "Testing Cost    0\n",
      "dtype: int64\n"
     ]
    }
   ],
   "source": [
    "print(exams_df.isnull().sum())"
   ]
  },
  {
   "cell_type": "code",
   "execution_count": null,
   "metadata": {},
   "outputs": [
    {
     "name": "stdout",
     "output_type": "stream",
     "text": [
      "    CodItem                                          Desc Item Category   Family     Speciality  Testing Cost\n",
      "0  70003237  MAGNESIO, SORO (EXEMPLO DE EXPRESSAO DE RESULT...       CA  CORELAB   BIOCHEMISTRY          1.78\n",
      "1  70000638                    HEMOGRAMA, AUTOMATIZADO, SANGUE       CA   HEMATO    BLOOD COUNT          2.46\n",
      "2  70001597                                    FERRITINA, SORO       CA  CORELAB  IMMUNOHORMONE          2.11\n",
      "3  70000103  FERRO, DOSAGEM, SORO (EXEMPLO DE EXPRESSAO DE ...       CA  CORELAB   BIOCHEMISTRY          0.80\n",
      "4  70000224  CALCIO, DOSAGEM, SORO (EXEMPLO DE EXPRESSAO DE...       CA  CORELAB   BIOCHEMISTRY          1.02\n"
     ]
    }
   ],
   "source": [
    "print(exams_df.head(5))"
   ]
  },
  {
   "cell_type": "markdown",
   "metadata": {},
   "source": [
    "### Visualização do transactional_df"
   ]
  },
  {
   "cell_type": "code",
   "execution_count": null,
   "metadata": {},
   "outputs": [
    {
     "name": "stdout",
     "output_type": "stream",
     "text": [
      "Colunas do dataframe transactional: Index(['Patient Id;Gender;Date of birth;Date of service;Service Id;Lab Id;CodItem;Testing Cost'], dtype='object')\n",
      "Shape do dataframe transactional (2355241, 1)\n",
      "<class 'pandas.core.frame.DataFrame'>\n",
      "Index: 2355241 entries, 10210830256-BIO003;F;01/08/1976 00:00:00;2019-01-07;571904533475-38;L133;70003237;9 to 7664157546-1;M;06/03/1971 00:00:00;2021-02-12;7664157546-1-1;L697;70000392;8\n",
      "Data columns (total 1 columns):\n",
      " #   Column                                                                                  Dtype\n",
      "---  ------                                                                                  -----\n",
      " 0   Patient Id;Gender;Date of birth;Date of service;Service Id;Lab Id;CodItem;Testing Cost  int64\n",
      "dtypes: int64(1)\n",
      "memory usage: 35.9+ MB\n",
      "None\n"
     ]
    }
   ],
   "source": [
    "print(\"Colunas do dataframe transactional:\", transactional_df.columns)\n",
    "print(\"Shape do dataframe transactional\", transactional_df.shape)\n",
    "print(transactional_df.info())"
   ]
  },
  {
   "cell_type": "markdown",
   "metadata": {},
   "source": [
    "Aqui observamos que o dataframe foi lido de maneira incorreta, então precisou-se ajustar para fazer a leitura correta"
   ]
  },
  {
   "cell_type": "code",
   "execution_count": null,
   "metadata": {},
   "outputs": [
    {
     "name": "stdout",
     "output_type": "stream",
     "text": [
      "Colunas do dataframe transactional ajustado: Index(['Patient Id', 'Gender', 'Date of birth', 'Date of service', 'Service Id', 'Lab Id', 'CodItem', 'Testing Cost'], dtype='object')\n",
      "Shape do dataframe transactional ajustado (2355241, 8)\n",
      "<class 'pandas.core.frame.DataFrame'>\n",
      "RangeIndex: 2355241 entries, 0 to 2355240\n",
      "Data columns (total 8 columns):\n",
      " #   Column           Dtype \n",
      "---  ------           ----- \n",
      " 0   Patient Id       object\n",
      " 1   Gender           object\n",
      " 2   Date of birth    object\n",
      " 3   Date of service  object\n",
      " 4   Service Id       object\n",
      " 5   Lab Id           object\n",
      " 6   CodItem          int64 \n",
      " 7   Testing Cost     object\n",
      "dtypes: int64(1), object(7)\n",
      "memory usage: 143.8+ MB\n",
      "None\n"
     ]
    }
   ],
   "source": [
    "transactional_df = pd.read_csv(csv_files[4], sep=';', index_col=False)\n",
    "\n",
    "print(\"Colunas do dataframe transactional ajustado:\", transactional_df.columns)\n",
    "print(\"Shape do dataframe transactional ajustado\", transactional_df.shape)\n",
    "print(transactional_df.info())"
   ]
  },
  {
   "cell_type": "code",
   "execution_count": 60,
   "metadata": {},
   "outputs": [
    {
     "name": "stdout",
     "output_type": "stream",
     "text": [
      "Patient Id         0\n",
      "Gender             0\n",
      "Date of birth      1\n",
      "Date of service    0\n",
      "Service Id         0\n",
      "Lab Id             0\n",
      "CodItem            0\n",
      "Testing Cost       0\n",
      "dtype: int64\n"
     ]
    }
   ],
   "source": [
    "print(transactional_df.isnull().sum())"
   ]
  },
  {
   "cell_type": "code",
   "execution_count": 61,
   "metadata": {},
   "outputs": [
    {
     "name": "stdout",
     "output_type": "stream",
     "text": [
      "           Patient Id Gender Date of birth Date of service      Service Id Lab Id   CodItem  Testing Cost\n",
      "1253947  7659985004-1      F           NaN      2020-02-22  7659985004-2-1   L152  70000107          48.0\n"
     ]
    }
   ],
   "source": [
    "print(transactional_df[transactional_df.isnull().any(axis=1)])"
   ]
  },
  {
   "cell_type": "markdown",
   "metadata": {},
   "source": [
    "Preciso entender como tratar essa linha"
   ]
  },
  {
   "cell_type": "code",
   "execution_count": null,
   "metadata": {},
   "outputs": [
    {
     "name": "stdout",
     "output_type": "stream",
     "text": [
      "             Patient Id Gender        Date of birth Date of service        Service Id Lab Id   CodItem  Testing Cost\n",
      "110  10240091057-BIO010      F  12/07/1976 00:00:00      2019-01-09  430000507035-168   L536  70005005          59.0\n",
      "325  10240100137-BIO010      F  19/01/1987 00:00:00      2019-02-03  431300349554-172   L539  70000180          12.0\n"
     ]
    }
   ],
   "source": [
    "# Remover espaços em branco e normalizar a coluna 'Testing Cost'\n",
    "transactional_df['Testing Cost'] = transactional_df['Testing Cost'].str.replace(',', '.').astype(float)\n",
    "\n",
    "# Verificar duplicatas considerando todas as colunas\n",
    "duplicated_rows = transactional_df[transactional_df.duplicated()]\n",
    "print(duplicated_rows.head(2))"
   ]
  },
  {
   "cell_type": "code",
   "execution_count": 56,
   "metadata": {},
   "outputs": [
    {
     "data": {
      "text/html": [
       "<div>\n",
       "<style scoped>\n",
       "    .dataframe tbody tr th:only-of-type {\n",
       "        vertical-align: middle;\n",
       "    }\n",
       "\n",
       "    .dataframe tbody tr th {\n",
       "        vertical-align: top;\n",
       "    }\n",
       "\n",
       "    .dataframe thead th {\n",
       "        text-align: right;\n",
       "    }\n",
       "</style>\n",
       "<table border=\"1\" class=\"dataframe\">\n",
       "  <thead>\n",
       "    <tr style=\"text-align: right;\">\n",
       "      <th></th>\n",
       "      <th>Patient Id</th>\n",
       "      <th>Gender</th>\n",
       "      <th>Date of birth</th>\n",
       "      <th>Date of service</th>\n",
       "      <th>Service Id</th>\n",
       "      <th>Lab Id</th>\n",
       "      <th>CodItem</th>\n",
       "      <th>Testing Cost</th>\n",
       "    </tr>\n",
       "  </thead>\n",
       "  <tbody>\n",
       "    <tr>\n",
       "      <th>110</th>\n",
       "      <td>10240091057-BIO010</td>\n",
       "      <td>F</td>\n",
       "      <td>12/07/1976 00:00:00</td>\n",
       "      <td>2019-01-09</td>\n",
       "      <td>430000507035-168</td>\n",
       "      <td>L536</td>\n",
       "      <td>70005005</td>\n",
       "      <td>59,0</td>\n",
       "    </tr>\n",
       "    <tr>\n",
       "      <th>325</th>\n",
       "      <td>10240100137-BIO010</td>\n",
       "      <td>F</td>\n",
       "      <td>19/01/1987 00:00:00</td>\n",
       "      <td>2019-02-03</td>\n",
       "      <td>431300349554-172</td>\n",
       "      <td>L539</td>\n",
       "      <td>70000180</td>\n",
       "      <td>12,0</td>\n",
       "    </tr>\n",
       "    <tr>\n",
       "      <th>326</th>\n",
       "      <td>10240100137-BIO010</td>\n",
       "      <td>F</td>\n",
       "      <td>19/01/1987 00:00:00</td>\n",
       "      <td>2019-02-03</td>\n",
       "      <td>431300349554-172</td>\n",
       "      <td>L539</td>\n",
       "      <td>70000180</td>\n",
       "      <td>12,0</td>\n",
       "    </tr>\n",
       "    <tr>\n",
       "      <th>731</th>\n",
       "      <td>10210824046-BIO003</td>\n",
       "      <td>F</td>\n",
       "      <td>13/04/1957 00:00:00</td>\n",
       "      <td>2019-01-15</td>\n",
       "      <td>576401751254-89</td>\n",
       "      <td>L166</td>\n",
       "      <td>70000180</td>\n",
       "      <td>12,0</td>\n",
       "    </tr>\n",
       "    <tr>\n",
       "      <th>732</th>\n",
       "      <td>10210824046-BIO003</td>\n",
       "      <td>F</td>\n",
       "      <td>13/04/1957 00:00:00</td>\n",
       "      <td>2019-01-15</td>\n",
       "      <td>576401751254-89</td>\n",
       "      <td>L166</td>\n",
       "      <td>70000180</td>\n",
       "      <td>12,0</td>\n",
       "    </tr>\n",
       "    <tr>\n",
       "      <th>...</th>\n",
       "      <td>...</td>\n",
       "      <td>...</td>\n",
       "      <td>...</td>\n",
       "      <td>...</td>\n",
       "      <td>...</td>\n",
       "      <td>...</td>\n",
       "      <td>...</td>\n",
       "      <td>...</td>\n",
       "    </tr>\n",
       "    <tr>\n",
       "      <th>2354236</th>\n",
       "      <td>6004062388-1</td>\n",
       "      <td>F</td>\n",
       "      <td>13/09/1986 00:00:00</td>\n",
       "      <td>2021-01-13</td>\n",
       "      <td>6004062388-3-1</td>\n",
       "      <td>L139</td>\n",
       "      <td>70000819</td>\n",
       "      <td>30,0</td>\n",
       "    </tr>\n",
       "    <tr>\n",
       "      <th>2354238</th>\n",
       "      <td>6004062388-1</td>\n",
       "      <td>F</td>\n",
       "      <td>13/09/1986 00:00:00</td>\n",
       "      <td>2021-01-13</td>\n",
       "      <td>6004062388-3-1</td>\n",
       "      <td>L139</td>\n",
       "      <td>70006315</td>\n",
       "      <td>26,0</td>\n",
       "    </tr>\n",
       "    <tr>\n",
       "      <th>2354554</th>\n",
       "      <td>7664121334-1</td>\n",
       "      <td>F</td>\n",
       "      <td>07/11/1947 00:00:00</td>\n",
       "      <td>2021-02-09</td>\n",
       "      <td>7664121334-2-1</td>\n",
       "      <td>L155</td>\n",
       "      <td>70002747</td>\n",
       "      <td>81,0</td>\n",
       "    </tr>\n",
       "    <tr>\n",
       "      <th>2354885</th>\n",
       "      <td>7658735373-1</td>\n",
       "      <td>M</td>\n",
       "      <td>08/11/1978 00:00:00</td>\n",
       "      <td>2021-01-29</td>\n",
       "      <td>7658735373-15-1</td>\n",
       "      <td>L158</td>\n",
       "      <td>70000180</td>\n",
       "      <td>12,0</td>\n",
       "    </tr>\n",
       "    <tr>\n",
       "      <th>2354886</th>\n",
       "      <td>7658735373-1</td>\n",
       "      <td>M</td>\n",
       "      <td>08/11/1978 00:00:00</td>\n",
       "      <td>2021-01-29</td>\n",
       "      <td>7658735373-15-1</td>\n",
       "      <td>L158</td>\n",
       "      <td>70000180</td>\n",
       "      <td>12,0</td>\n",
       "    </tr>\n",
       "  </tbody>\n",
       "</table>\n",
       "<p>14519 rows × 8 columns</p>\n",
       "</div>"
      ],
      "text/plain": [
       "                 Patient Id Gender        Date of birth Date of service        Service Id Lab Id   CodItem Testing Cost\n",
       "110      10240091057-BIO010      F  12/07/1976 00:00:00      2019-01-09  430000507035-168   L536  70005005         59,0\n",
       "325      10240100137-BIO010      F  19/01/1987 00:00:00      2019-02-03  431300349554-172   L539  70000180         12,0\n",
       "326      10240100137-BIO010      F  19/01/1987 00:00:00      2019-02-03  431300349554-172   L539  70000180         12,0\n",
       "731      10210824046-BIO003      F  13/04/1957 00:00:00      2019-01-15   576401751254-89   L166  70000180         12,0\n",
       "732      10210824046-BIO003      F  13/04/1957 00:00:00      2019-01-15   576401751254-89   L166  70000180         12,0\n",
       "...                     ...    ...                  ...             ...               ...    ...       ...          ...\n",
       "2354236        6004062388-1      F  13/09/1986 00:00:00      2021-01-13    6004062388-3-1   L139  70000819         30,0\n",
       "2354238        6004062388-1      F  13/09/1986 00:00:00      2021-01-13    6004062388-3-1   L139  70006315         26,0\n",
       "2354554        7664121334-1      F  07/11/1947 00:00:00      2021-02-09    7664121334-2-1   L155  70002747         81,0\n",
       "2354885        7658735373-1      M  08/11/1978 00:00:00      2021-01-29   7658735373-15-1   L158  70000180         12,0\n",
       "2354886        7658735373-1      M  08/11/1978 00:00:00      2021-01-29   7658735373-15-1   L158  70000180         12,0\n",
       "\n",
       "[14519 rows x 8 columns]"
      ]
     },
     "execution_count": 56,
     "metadata": {},
     "output_type": "execute_result"
    }
   ],
   "source": [
    "transactional_df[transactional_df.duplicated()]"
   ]
  },
  {
   "cell_type": "code",
   "execution_count": 50,
   "metadata": {},
   "outputs": [
    {
     "name": "stdout",
     "output_type": "stream",
     "text": [
      "           Patient Id Gender        Date of birth Date of service       Service Id Lab Id   CodItem Testing Cost\n",
      "0  10210830256-BIO003      F  01/08/1976 00:00:00      2019-01-07  571904533475-38   L133  70003237          9,0\n",
      "1  10210830256-BIO003      F  01/08/1976 00:00:00      2019-01-07  571904533475-38   L133  70000638         13,0\n",
      "2  10210830256-BIO003      F  01/08/1976 00:00:00      2019-01-07  571904533475-38   L133  70001597         49,0\n",
      "3  10210830256-BIO003      F  01/08/1976 00:00:00      2019-01-07  571904533475-38   L133  70000103         11,0\n",
      "4  10210830256-BIO003      F  01/08/1976 00:00:00      2019-01-07  571904533475-38   L133  70000224         10,0\n"
     ]
    }
   ],
   "source": [
    "pd.set_option('display.width', 600)\n",
    "pd.set_option('display.max_columns', None)\n",
    "print(transactional_df.head(5))"
   ]
  },
  {
   "cell_type": "markdown",
   "metadata": {},
   "source": [
    "# EDA"
   ]
  }
 ],
 "metadata": {
  "kernelspec": {
   "display_name": "Python 3",
   "language": "python",
   "name": "python3"
  },
  "language_info": {
   "codemirror_mode": {
    "name": "ipython",
    "version": 3
   },
   "file_extension": ".py",
   "mimetype": "text/x-python",
   "name": "python",
   "nbconvert_exporter": "python",
   "pygments_lexer": "ipython3",
   "version": "3.12.1"
  }
 },
 "nbformat": 4,
 "nbformat_minor": 2
}
